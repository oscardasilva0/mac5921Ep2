{
 "cells": [
  {
   "cell_type": "markdown",
   "id": "d8b7ee38-7736-444d-bb68-580d9aaf557a",
   "metadata": {},
   "source": [
    "## MAC05921 – Deep Learning\n",
    "\n",
    "### DCC / IME-USP — 2024\n",
    "\n",
    "#### **EP 2** \n",
    "Treinar um modelo do tipo U-Net utilizando o dataset DRIVE para realizar a segmentação\n",
    "de imagens. Avalie o desempenho do modelo utilizando as métricas de acurácia, precision,\n",
    "recall, F1-score, IoU, e outras que julgar relevantes. Discuta os resultados obtidos, desta-\n",
    "cando quaisquer modificações realizadas no modelo ou na estratégia de treinamento para\n",
    "lidar adequadamente com o dataset."
   ]
  },
  {
   "cell_type": "markdown",
   "id": "59505964-ec69-4666-b238-645b0ede345b",
   "metadata": {},
   "source": [
    "### **Solução:**\n",
    "#### **Tentativa 1**\n",
    "A solução foi elabora em cima do repositorio [**U-Net: Semantic segmentation with PyTorch**](https://github.com/milesial/Pytorch-UNet). (Customized implementation of the U-Net in PyTorch for Kaggle's Carvana Image Masking Challenge from high definition images.)\\\n",
    "OBS: Realizei a execução e treinamento do reposito para o problema **Carvana Image Masking Challenge** ao final do arquivo quero realizar uma comparação e ver que metricas com os dados do problema drive nele.\n",
    "Não Consegui realizar ao teração dos parametros para realizar o funcionamento com o datset."
   ]
  },
  {
   "cell_type": "markdown",
   "id": "b51f4a91-d4a7-47f0-b0df-d8e61f1d40a3",
   "metadata": {},
   "source": [
    "##### Erro \n",
    "INFO: Using device cuda\n",
    "INFO: Network:\n",
    "\t3 input channels\n",
    "\t2 output channels (classes)\n",
    "\tTransposed conv upscaling\n",
    "/tmp/ipykernel_82248/4225091555.py:206: FutureWarning: You are using `torch.load` with `weights_only=False` (the current default value), which uses the default pickle module implicitly. It is possible to construct malicious pickle data which will execute arbitrary code during unpickling (See https://github.com/pytorch/pytorch/blob/main/SECURITY.md#untrusted-models for more details). In a future release, the default value for `weights_only` will be flipped to `True`. This limits the functions that could be executed during unpickling. Arbitrary objects will no longer be allowed to be loaded via this mode unless they are explicitly allowlisted by the user via `torch.serialization.add_safe_globals`. We recommend you start setting `weights_only=True` for any use case where you don't have full control of the loaded file. Please open an issue on GitHub for any issues related to this experimental feature.\n",
    "  state_dict = torch.load(args.load, map_location=device)\n",
    "\n",
    "---------------------------------------------------------------------------\n",
    "UnpicklingError                           Traceback (most recent call last)\n",
    "Cell In[3], line 206\n",
    "    200 logging.info(f'Network:\\n'\n",
    "    201              f'\\t{model.n_channels} input channels\\n'\n",
    "    202              f'\\t{model.n_classes} output channels (classes)\\n'\n",
    "    203              f'\\t{\"Bilinear\" if model.bilinear else \"Transposed conv\"} upscaling')\n",
    "    205 if args.load:\n",
    "--> 206     state_dict = torch.load(args.load, map_location=device)\n",
    "    207     del state_dict['mask_values']\n",
    "    208     model.load_state_dict(state_dict)\n",
    "\n",
    "File ~/anaconda3/lib/python3.12/site-packages/torch/serialization.py:1114, in load(f, map_location, pickle_module, weights_only, mmap, **pickle_load_args)\n",
    "   1112     except RuntimeError as e:\n",
    "   1113         raise pickle.UnpicklingError(_get_wo_message(str(e))) from None\n",
    "-> 1114 return _legacy_load(\n",
    "   1115     opened_file, map_location, pickle_module, **pickle_load_args\n",
    "   1116 )\n",
    "\n",
    "File ~/anaconda3/lib/python3.12/site-packages/torch/serialization.py:1338, in _legacy_load(f, map_location, pickle_module, **pickle_load_args)\n",
    "   1332 if not hasattr(f, 'readinto') and (3, 8, 0) <= sys.version_info < (3, 8, 2):\n",
    "   1333     raise RuntimeError(\n",
    "   1334         \"torch.load does not work with file-like objects that do not implement readinto on Python 3.8.0 and 3.8.1. \"\n",
    "   1335         f'Received object of type \"{type(f)}\". Please update to Python 3.8.2 or newer to restore this '\n",
    "   1336         \"functionality.\")\n",
    "-> 1338 magic_number = pickle_module.load(f, **pickle_load_args)\n",
    "   1339 if magic_number != MAGIC_NUMBER:\n",
    "   1340     raise RuntimeError(\"Invalid magic number; corrupt file?\")\n",
    "\n",
    "UnpicklingError: invalid load key, '{'."
   ]
  },
  {
   "cell_type": "markdown",
   "id": "576cd8fd-a480-4c43-bba3-1c2bb0ff39ef",
   "metadata": {},
   "source": [
    "Após diversas tentativas abandonei e resolvi trocar a abortagem."
   ]
  },
  {
   "cell_type": "markdown",
   "id": "afdef73a-97a6-47ec-95fe-47861ad675a9",
   "metadata": {},
   "source": [
    "#### **Tentativa 2**\n",
    "A solução foi elabora em cima do repositorio [**U-Net: Semantic segmentation with PyTorch**](https://github.com/milesial/Pytorch-UNet). (Customized implementation of the U-Net in PyTorch for Kaggle's Carvana Image Masking Challenge from high definition images.)\\\n",
    "OBS: Realizei a execução e treinamento do reposito para o problema **Carvana Image Masking Challenge** ao final do arquivo quero realizar uma comparação e ver que metricas com os dados do problema drive nele.\n",
    "Não Consegui realizar ao teração dos parametros para realizar o funcionamento com o datset."
   ]
  }
 ],
 "metadata": {
  "kernelspec": {
   "display_name": "Python (ep2)",
   "language": "python",
   "name": "ep2"
  },
  "language_info": {
   "codemirror_mode": {
    "name": "ipython",
    "version": 3
   },
   "file_extension": ".py",
   "mimetype": "text/x-python",
   "name": "python",
   "nbconvert_exporter": "python",
   "pygments_lexer": "ipython3",
   "version": "3.12.4"
  }
 },
 "nbformat": 4,
 "nbformat_minor": 5
}
