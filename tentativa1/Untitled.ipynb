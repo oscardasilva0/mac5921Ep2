{
 "cells": [
  {
   "cell_type": "code",
   "execution_count": 1,
   "id": "6e5967f7-2dd2-40dc-9904-0adbde2d8781",
   "metadata": {},
   "outputs": [
    {
     "name": "stdout",
     "output_type": "stream",
     "text": [
      "Dispositivo em uso: cuda\n",
      "O tensor está na GPU!\n",
      "Resultado: -1.3448388576507568\n"
     ]
    }
   ],
   "source": [
    "import torch\n",
    "\n",
    "# Verificar se uma GPU está disponível\n",
    "device = torch.device(\"cuda\" if torch.cuda.is_available() else \"cpu\")\n",
    "\n",
    "# Imprimir o dispositivo em uso\n",
    "print(f\"Dispositivo em uso: {device}\")\n",
    "\n",
    "# Criar um tensor aleatório e movê-lo para o dispositivo\n",
    "tensor = torch.randn(10, 10)\n",
    "tensor = tensor.to(device)\n",
    "\n",
    "# Verificar se o tensor está na GPU\n",
    "if tensor.is_cuda:\n",
    "    print(\"O tensor está na GPU!\")\n",
    "else:\n",
    "    print(\"O tensor está na CPU!\")\n",
    "\n",
    "# Executar alguma operação com o tensor na GPU\n",
    "result = tensor.sum()\n",
    "print(f\"Resultado: {result}\")"
   ]
  }
 ],
 "metadata": {
  "kernelspec": {
   "display_name": "Python (ep2)",
   "language": "python",
   "name": "ep2"
  },
  "language_info": {
   "codemirror_mode": {
    "name": "ipython",
    "version": 3
   },
   "file_extension": ".py",
   "mimetype": "text/x-python",
   "name": "python",
   "nbconvert_exporter": "python",
   "pygments_lexer": "ipython3",
   "version": "3.12.4"
  }
 },
 "nbformat": 4,
 "nbformat_minor": 5
}
